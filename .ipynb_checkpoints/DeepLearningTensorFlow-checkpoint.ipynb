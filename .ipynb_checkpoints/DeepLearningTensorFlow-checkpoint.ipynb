{
 "cells": [
  {
   "cell_type": "code",
   "execution_count": 1,
   "metadata": {
    "collapsed": false
   },
   "outputs": [
    {
     "name": "stdout",
     "output_type": "stream",
     "text": [
      "b'Hello, TensorFlow!'\n"
     ]
    }
   ],
   "source": [
    "#Install tensor flow in mac https://www.tensorflow.org/install/install_mac \n",
    "#pip3 install tensorflow\n",
    "#If that does not work then\n",
    "#sudo pip3 install --upgrade https://storage.googleapis.com/tensorflow/mac/cpu/tensorflow-1.2.1-py3-none-any.whl\n",
    "#Run it to check whether it is installed or not\n",
    "import tensorflow as tf\n",
    "hello = tf.constant('Hello, TensorFlow!')\n",
    "sess = tf.Session()\n",
    "print(sess.run(hello))"
   ]
  },
  {
   "cell_type": "code",
   "execution_count": 11,
   "metadata": {
    "collapsed": true
   },
   "outputs": [],
   "source": [
    "#We're going to be working first with the MNIST dataset, which is a dataset that contains 60,000 training samples \n",
    "#and 10,000 testing samples of hand-written and labeled digits, 0 through 9, so ten total \"classes.\" \n",
    "\n",
    "#The MNIST dataset has the images, which we'll be working with as purely black and white, thresholded, images, \n",
    "#of size 28 x 28, or 784 pixels total. Our features will be the pixel values for each pixel, thresholded. \n",
    "#Either the pixel is \"blank\" (nothing there, a 0), or there is something there (1).\n",
    "\n",
    "#input --> add weight --> hidden layer 1 (activation function) --> o/p H1\n",
    "#o/p H1 --> add weight --> hidden layer 1 (activation function) --> o/p H2\n",
    "#o/p H1 --> add weight --> o/p \n",
    "\n",
    "#Compare output to intended output > cost function (cross entropy)\n",
    "#optimization function(optimizer) > minimize cost (AdamOptimizer ... SGD, AdaGrad)\n",
    "\n",
    "#backpropagation\n",
    "#feed forward + backprop = epoc\n"
   ]
  },
  {
   "cell_type": "code",
   "execution_count": 9,
   "metadata": {
    "collapsed": false
   },
   "outputs": [
    {
     "name": "stdout",
     "output_type": "stream",
     "text": [
      "Tensor(\"Mul_4:0\", shape=(), dtype=int32)\n",
      "30\n"
     ]
    }
   ],
   "source": [
    "import tensorflow as tf\n",
    "from tensorflow.examples.tutorials.mnist import input_data\n",
    "\n",
    "mnist = input_data.read_data_sets(\"/tmp/data/\", one_hot=True)\n",
    "\n",
    "#3 hidden layers, and each has 500 nodes.The number 500 needs not to be same.\n",
    "n_nodes_hl1 = 500\n",
    "n_nodes_hl2 = 500\n",
    "n_nodes_hl3 = 500\n",
    "\n",
    "n_classes = 10\n",
    "batch_size = 100#\n",
    "\n",
    "x = tf.placeholder('float',[None,28*28])\n",
    "y = tf.placeholder('float') \n",
    "\n",
    "\n",
    "def neural_network_model(data):\n",
    "    \n",
    "    hidden_layer1 = {'weights':tf.Variable(tf.random_normal([784, n_nodes_hl1])),\n",
    "                    'biases':tf.Variable(tf.random_normal([n_nodes_hl1]))}\n",
    "    \n",
    "    hidden_layer2 = {'weights':tf.Variable(tf.random_normal([n_nodes_hl1, n_nodes_hl2])),\n",
    "                    'biases':tf.Variable(tf.random_normal([n_nodes_hl2]))}\n",
    "    \n",
    "    hidden_layer3 = {'weights':tf.Variable(tf.random_normal([n_nodes_hl2, n_nodes_hl3])),\n",
    "                    'biases':tf.Variable(tf.random_normal([n_nodes_hl3]))}\n",
    "    \n",
    "    ouptput_layer = {'weights':tf.Variable(tf.random_normal([n_nodes_hl3, n_classes])),\n",
    "                    'biases':tf.Variable(tf.random_normal([n_classes]))}\n",
    "    \n",
    "    #(input_data * weights) + biases\n",
    "    \n",
    "    l1 = tf.add(tf.matmul(data,hidden_layer1['weights']) , hidden_layer1['biases'])\n",
    "    l1 = tf.nn.relu(l1)#activation function\n",
    "    \n",
    "    l2 = tf.add(tf.matmul(l1,hidden_layer2['weights']) , hidden_layer2['biases'])\n",
    "    l2 = tf.nn.relu(l2)#activation function\n",
    "    \n",
    "    l3 = tf.add(tf.matmul(l2,hidden_layer3['weights']) , hidden_layer3['biases'])\n",
    "    l3 = tf.nn.relu(l3)#activation function\n",
    "    \n",
    "    output = tf.add(tf.matmul(l3,ouptput_layer['weights']) , ouptput_layer['biases'])\n",
    "    \n",
    "    return output\n",
    "\n",
    "def train_neural_network(x):\n",
    "    prediction = neural_network_model(x)\n",
    "    cost = tf.reduce_mean(tf.nn.softmax_cross_entropy_with_logits(logits = prediction,labels = y))\n",
    "    \n",
    "    optimizer = tf.train.AdamOptimizer().minimize(cost)#learning_rate = 0.001\n",
    "    hm_epochs = 5\n",
    "    \n",
    "    with tf.Session() as sess:\n",
    "        sess.run(tf.initialize_all_variables())\n",
    "        \n",
    "        for epoch in range(hm_epochs):\n",
    "            epoch_loss = 0;\n",
    "            for _ in range(int(mnist.train.num_examples/batch_size)):\n",
    "                epoch_x, epoch_y = mnist.train.next_batch(batch_size)\n",
    "                _, c = sess.run([optimizer,cost], feed_dict = {x : epoch_x, y : epoch_y})#c is cost\n",
    "                epoch_loss += c\n",
    "                print('Epoch', epoch, 'completed out of', hm_epochs, 'loss', epoch_loss)\n",
    "                \n",
    "        \n",
    "        \n",
    "        correct = tf.equal(tf.argmax(prediction, 1), tf.argmax(y,1))\n",
    "        accuracy = tf.reduce_mean(tf.cast(correct, 'float'))\n",
    "        print('Accuracy:', accuracy.eval({x:mnist.test.images, y:mnist.test.labels}))\n",
    "\n",
    "        \n",
    "train_neural_network(x)"
   ]
  },
  {
   "cell_type": "code",
   "execution_count": 10,
   "metadata": {
    "collapsed": true
   },
   "outputs": [],
   "source": [
    "#Sentiment analysis : here data is not tensor data\n",
    "# we have downloaded the data from the following link\n",
    "#https://pythonprogramming.net/using-our-own-data-tensorflow-deep-learning-tutorial/?completed=/tensorflow-neural-network-session-machine-learning-tutorial/\n",
    "# It has two txt files 1) pos, 2) neg"
   ]
  },
  {
   "cell_type": "code",
   "execution_count": null,
   "metadata": {
    "collapsed": false
   },
   "outputs": [],
   "source": [
    "import nltk\n",
    "from nltk.tokenize import word_tokenize\n",
    "from nltk.stem import WordNetLemmatizer\n",
    "import numpy as np\n",
    "import pickle\n",
    "from collections import Counter\n",
    "from nltk.corpus import stopwords\n",
    "\n",
    "lemmatizer = WordNetLemmatizer()\n",
    "stopWords = set(stopwords.words('english'))\n",
    "hm_lines = 10000000\n",
    "\n",
    "def create_lexicon(pos,neg):\n",
    "    lexicon = []\n",
    "    for f in [pos,neg]:\n",
    "        with open(f,'r') as f:\n",
    "            contents = f.readlines()\n",
    "            for l in contents[:hm_lines]:\n",
    "                all_words = word_tokenize(l.lower())\n",
    "                lexicon += list(all_words)\n",
    "                \n",
    "                \n",
    "    lexicon = [lemmatizer.lemmatize(i) for i in lexicon]\n",
    "    filtered_lexicon = []\n",
    "    \n",
    "    for w in lexicon:\n",
    "        if w not in stopWords:\n",
    "            filtered_lexicon.append(w) \n",
    "    \n",
    "    \n",
    "    return filtered_lexicon\n",
    "\n",
    "def sample_handling(sample,lexicon,classification):\n",
    "\n",
    "    featureset = []\n",
    "\n",
    "    with open(sample,'r') as f:\n",
    "        contents = f.readlines()\n",
    "        for l in contents[:hm_lines]:\n",
    "            current_words = word_tokenize(l.lower())\n",
    "            current_words = [lemmatizer.lemmatize(i) for i in current_words]\n",
    "            features = np.zeros(len(lexicon))\n",
    "            for word in current_words:\n",
    "                if word.lower() in lexicon:\n",
    "                    index_value = lexicon.index(word.lower())\n",
    "                    features[index_value] += 1\n",
    "\n",
    "            features = list(features)\n",
    "            featureset.append([features,classification])\n",
    "\n",
    "    return featureset\n",
    "\n",
    "\n",
    "def create_feature_sets_and_labels(pos,neg,test_size = 0.1):\n",
    "    lexicon = create_lexicon(pos,neg)\n",
    "    features = []\n",
    "    features += sample_handling('pos.txt',lexicon,[1,0]) #for positive class is [1,0]\n",
    "    features += sample_handling('neg.txt',lexicon,[0,1])#for negative class is [0,1]\n",
    "    random.shuffle(features)\n",
    "    features = np.array(features)\n",
    "    \n",
    "    \n",
    "\n",
    "    testing_size = int(test_size*len(features))#10% of features\n",
    "\n",
    "    train_x = list(features[:,0][:-testing_size])# all the features up to testing_size \n",
    "    train_y = list(features[:,1][:-testing_size])# all the labels up to testing_size \n",
    "    test_x = list(features[:,0][-testing_size:])\n",
    "    test_y = list(features[:,1][-testing_size:])\n",
    "\n",
    "    return train_x,train_y,test_x,test_y\n",
    "\n",
    "\n",
    "def saveModel():\n",
    "    train_x,train_y,test_x,test_y = create_feature_sets_and_labels('pos.txt','neg.txt')\n",
    "    # if you want to pickle this data:\n",
    "    with open('sentiment_set.pickle','wb') as f:\n",
    "        pickle.dump([train_x,train_y,test_x,test_y],f)\n",
    "        print('saved')\n",
    " \n",
    "\n",
    "saveModel()"
   ]
  },
  {
   "cell_type": "code",
   "execution_count": 4,
   "metadata": {
    "collapsed": false,
    "scrolled": true
   },
   "outputs": [
    {
     "ename": "NameError",
     "evalue": "name 'tf' is not defined",
     "output_type": "error",
     "traceback": [
      "\u001b[0;31m---------------------------------------------------------------------------\u001b[0m",
      "\u001b[0;31mNameError\u001b[0m                                 Traceback (most recent call last)",
      "\u001b[0;32m<ipython-input-4-03cc38afee85>\u001b[0m in \u001b[0;36m<module>\u001b[0;34m()\u001b[0m\n\u001b[1;32m      7\u001b[0m \u001b[0mbatch_size\u001b[0m \u001b[0;34m=\u001b[0m \u001b[0;36m100\u001b[0m\u001b[0;31m#\u001b[0m\u001b[0;34m\u001b[0m\u001b[0m\n\u001b[1;32m      8\u001b[0m \u001b[0;34m\u001b[0m\u001b[0m\n\u001b[0;32m----> 9\u001b[0;31m \u001b[0mx\u001b[0m \u001b[0;34m=\u001b[0m \u001b[0mtf\u001b[0m\u001b[0;34m.\u001b[0m\u001b[0mplaceholder\u001b[0m\u001b[0;34m(\u001b[0m\u001b[0;34m'float'\u001b[0m\u001b[0;34m,\u001b[0m\u001b[0;34m[\u001b[0m\u001b[0;32mNone\u001b[0m\u001b[0;34m,\u001b[0m\u001b[0;36m28\u001b[0m\u001b[0;34m*\u001b[0m\u001b[0;36m28\u001b[0m\u001b[0;34m]\u001b[0m\u001b[0;34m)\u001b[0m\u001b[0;34m\u001b[0m\u001b[0m\n\u001b[0m\u001b[1;32m     10\u001b[0m \u001b[0my\u001b[0m \u001b[0;34m=\u001b[0m \u001b[0mtf\u001b[0m\u001b[0;34m.\u001b[0m\u001b[0mplaceholder\u001b[0m\u001b[0;34m(\u001b[0m\u001b[0;34m'float'\u001b[0m\u001b[0;34m)\u001b[0m\u001b[0;34m\u001b[0m\u001b[0m\n\u001b[1;32m     11\u001b[0m \u001b[0;34m\u001b[0m\u001b[0m\n",
      "\u001b[0;31mNameError\u001b[0m: name 'tf' is not defined"
     ]
    }
   ],
   "source": [
    "\n",
    "\n"
   ]
  },
  {
   "cell_type": "code",
   "execution_count": 14,
   "metadata": {
    "collapsed": true
   },
   "outputs": [],
   "source": []
  },
  {
   "cell_type": "code",
   "execution_count": 2,
   "metadata": {
    "collapsed": false
   },
   "outputs": [],
   "source": [
    "\n",
    "        "
   ]
  },
  {
   "cell_type": "code",
   "execution_count": 3,
   "metadata": {
    "collapsed": false,
    "scrolled": true
   },
   "outputs": [
    {
     "ename": "NameError",
     "evalue": "name 'x' is not defined",
     "output_type": "error",
     "traceback": [
      "\u001b[0;31m---------------------------------------------------------------------------\u001b[0m",
      "\u001b[0;31mNameError\u001b[0m                                 Traceback (most recent call last)",
      "\u001b[0;32m<ipython-input-3-7c7cbdae9b34>\u001b[0m in \u001b[0;36m<module>\u001b[0;34m()\u001b[0m\n\u001b[0;32m----> 1\u001b[0;31m \u001b[0mtrain_neural_network\u001b[0m\u001b[0;34m(\u001b[0m\u001b[0mx\u001b[0m\u001b[0;34m)\u001b[0m\u001b[0;34m\u001b[0m\u001b[0m\n\u001b[0m",
      "\u001b[0;31mNameError\u001b[0m: name 'x' is not defined"
     ]
    }
   ],
   "source": []
  },
  {
   "cell_type": "code",
   "execution_count": null,
   "metadata": {
    "collapsed": true
   },
   "outputs": [],
   "source": []
  }
 ],
 "metadata": {
  "kernelspec": {
   "display_name": "Python 3",
   "language": "python",
   "name": "python3"
  },
  "language_info": {
   "codemirror_mode": {
    "name": "ipython",
    "version": 3
   },
   "file_extension": ".py",
   "mimetype": "text/x-python",
   "name": "python",
   "nbconvert_exporter": "python",
   "pygments_lexer": "ipython3",
   "version": "3.5.1"
  }
 },
 "nbformat": 4,
 "nbformat_minor": 2
}
